{
  "nbformat": 4,
  "nbformat_minor": 0,
  "metadata": {
    "colab": {
      "provenance": []
    },
    "kernelspec": {
      "name": "python3",
      "display_name": "Python 3"
    },
    "language_info": {
      "name": "python"
    }
  },
  "cells": [
    {
      "cell_type": "code",
      "source": [
        "from sklearn.datasets import load_wine\n",
        "from sklearn.model_selection import train_test_split\n",
        "import pandas as pd\n",
        "\n",
        "# データセットの読み込み\n",
        "dataset = load_wine()\n",
        "\n",
        "# 説明変数Xと目的変数yに代入\n",
        "X = dataset.data\n",
        "y = dataset.target\n",
        "\n",
        "# 学習データとテストデータに7:3で分割 (random_state=5で固定)\n",
        "X_train, X_test, y_train, y_test = train_test_split(X, y, test_size=0.3, random_state=5)\n",
        "\n",
        "print(\"データの取得と分割が完了しました。X_train, y_trainが定義されました。\")"
      ],
      "metadata": {
        "colab": {
          "base_uri": "https://localhost:8080/"
        },
        "id": "syoQhvlG-IK_",
        "outputId": "d87188eb-b054-4cec-ef76-901f33c99a2b"
      },
      "execution_count": 3,
      "outputs": [
        {
          "output_type": "stream",
          "name": "stdout",
          "text": [
            "データの取得と分割が完了しました。X_train, y_trainが定義されました。\n"
          ]
        }
      ]
    },
    {
      "cell_type": "code",
      "source": [
        "from sklearn.ensemble import RandomForestClassifier\n",
        "from sklearn.metrics import accuracy_score # Step 3で使用するため再インポート\n",
        "\n",
        "# モデルをRandomForestClassifierとしてインスタンス化 (random_state=3で固定)\n",
        "model = RandomForestClassifier(random_state=3)\n",
        "\n",
        "print(\"予測モデルmodelが定義されました。\")"
      ],
      "metadata": {
        "colab": {
          "base_uri": "https://localhost:8080/"
        },
        "id": "v3zdIlxh-KQe",
        "outputId": "464398d9-c779-45d2-fdce-5e795f9e3dc1"
      },
      "execution_count": 4,
      "outputs": [
        {
          "output_type": "stream",
          "name": "stdout",
          "text": [
            "予測モデルmodelが定義されました。\n"
          ]
        }
      ]
    },
    {
      "cell_type": "code",
      "source": [
        "# 4. 予測モデルの学習 (fit)\n",
        "# X_train, y_trainが定義されているため、ここで学習が実行されます\n",
        "model.fit(X_train, y_train)\n",
        "print(\"予測モデルの学習が完了しました。\")\n",
        "\n",
        "# 5. 予測モデルの評価 (predictとaccuracy_score)\n",
        "y_pred = model.predict(X_test)\n",
        "accuracy = accuracy_score(y_test, y_pred)\n",
        "print(f\"正解率: {accuracy}\")"
      ],
      "metadata": {
        "colab": {
          "base_uri": "https://localhost:8080/"
        },
        "id": "mK5lv4tK-MJU",
        "outputId": "0d3c525b-1899-4f6d-b04c-09af6a3131d3"
      },
      "execution_count": 5,
      "outputs": [
        {
          "output_type": "stream",
          "name": "stdout",
          "text": [
            "予測モデルの学習が完了しました。\n",
            "正解率: 0.9629629629629629\n"
          ]
        }
      ]
    }
  ]
}