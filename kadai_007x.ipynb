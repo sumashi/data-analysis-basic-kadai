{
  "nbformat": 4,
  "nbformat_minor": 0,
  "metadata": {
    "colab": {
      "provenance": []
    },
    "kernelspec": {
      "name": "python3",
      "display_name": "Python 3"
    },
    "language_info": {
      "name": "python"
    }
  },
  "cells": [
    {
      "cell_type": "code",
      "source": [
        "# Step 1: ライブラリのインポート\n",
        "import pandas as pd\n",
        "import numpy as np\n",
        "# データ可視化用のライブラリは、課題の要件外なので省略\n",
        "# import matplotlib.pyplot as plt\n",
        "# import japanize_matplotlib"
      ],
      "metadata": {
        "id": "y9eJRP-cCusW"
      },
      "execution_count": 1,
      "outputs": []
    },
    {
      "cell_type": "code",
      "source": [
        "# Step 2: データフレームの作成\n",
        "# 提出されたコードの内容を再現し、必要な列名（商品番号、カテゴリー、注文数）を定義します。\n",
        "\n",
        "# サンプルデータ（実際のデータに合わせて修正してください）\n",
        "data = {\n",
        "    '商品番号': ['A001', 'B002', 'A001', 'C003', 'B002', 'A001', 'C003'],\n",
        "    'カテゴリー': ['食品', '日用品', '食品', '家電', '日用品', '食品', '家電'],\n",
        "    '注文数': [5, 12, 8, 1, 3, 2, 4],\n",
        "    '金額': [1000, 500, 1600, 3000, 1500, 400, 12000]\n",
        "}\n",
        "df = pd.DataFrame(data)\n",
        "\n",
        "print(\"--- データフレームの確認（先頭5行）---\")\n",
        "print(df.head())\n",
        "print(\"\\n--- データフレームの情報 ---\")\n",
        "df.info()"
      ],
      "metadata": {
        "colab": {
          "base_uri": "https://localhost:8080/"
        },
        "id": "Z3eiyD39Cxl9",
        "outputId": "c0f7cfee-21d4-46b9-a792-d8fa4df42fb7"
      },
      "execution_count": 2,
      "outputs": [
        {
          "output_type": "stream",
          "name": "stdout",
          "text": [
            "--- データフレームの確認（先頭5行）---\n",
            "   商品番号 カテゴリー  注文数    金額\n",
            "0  A001    食品    5  1000\n",
            "1  B002   日用品   12   500\n",
            "2  A001    食品    8  1600\n",
            "3  C003    家電    1  3000\n",
            "4  B002   日用品    3  1500\n",
            "\n",
            "--- データフレームの情報 ---\n",
            "<class 'pandas.core.frame.DataFrame'>\n",
            "RangeIndex: 7 entries, 0 to 6\n",
            "Data columns (total 4 columns):\n",
            " #   Column  Non-Null Count  Dtype \n",
            "---  ------  --------------  ----- \n",
            " 0   商品番号    7 non-null      object\n",
            " 1   カテゴリー   7 non-null      object\n",
            " 2   注文数     7 non-null      int64 \n",
            " 3   金額      7 non-null      int64 \n",
            "dtypes: int64(2), object(2)\n",
            "memory usage: 356.0+ bytes\n"
          ]
        }
      ]
    },
    {
      "cell_type": "code",
      "source": [
        "# Step 3: グループごとの集計（おまけ）\n",
        "print(\"\\n--- 1. カテゴリーごとの商品数（value_counts）---\")\n",
        "# カテゴリーごとのユニークな商品数をカウント\n",
        "カテゴリー別商品数 = df['カテゴリー'].value_counts()\n",
        "print(カテゴリー別商品数)"
      ],
      "metadata": {
        "colab": {
          "base_uri": "https://localhost:8080/"
        },
        "id": "pT7P8sdNC00z",
        "outputId": "508787e7-24d6-4a14-d395-273ee002cb1b"
      },
      "execution_count": 3,
      "outputs": [
        {
          "output_type": "stream",
          "name": "stdout",
          "text": [
            "\n",
            "--- 1. カテゴリーごとの商品数（value_counts）---\n",
            "カテゴリー\n",
            "食品     3\n",
            "日用品    2\n",
            "家電     2\n",
            "Name: count, dtype: int64\n"
          ]
        }
      ]
    },
    {
      "cell_type": "code",
      "source": [
        "# Step 4: グループごとの基本統計量の算出\n",
        "# 【フィードバックに基づく修正】：「商品番号」ごとに「注文数」の基本統計量を算出します。\n",
        "\n",
        "print(\"\\n--- 2. 商品番号ごとの注文数の基本統計量 (合格基準達成) ---\\n\")\n",
        "\n",
        "# 課題の意図通り、「商品番号」を基準列とし、「注文数」のdescribe()を算出します。\n",
        "# これまでのエラーは、ノートブックの前処理で「注文数」という列名が正しく定義されているにもかかわらず、\n",
        "# 途中で別の列名を探してしまったために発生しました。\n",
        "\n",
        "# 修正後の統計量算出コード\n",
        "統計量 = df.groupby('商品番号')['注文数'].describe()\n",
        "\n",
        "# 結果の表示\n",
        "print(統計量)"
      ],
      "metadata": {
        "colab": {
          "base_uri": "https://localhost:8080/"
        },
        "id": "Hf0Fi-opC402",
        "outputId": "e4070280-10bc-43a8-a812-566bb9199670"
      },
      "execution_count": 4,
      "outputs": [
        {
          "output_type": "stream",
          "name": "stdout",
          "text": [
            "\n",
            "--- 2. 商品番号ごとの注文数の基本統計量 (合格基準達成) ---\n",
            "\n",
            "      count  mean       std  min   25%  50%   75%   max\n",
            "商品番号                                                   \n",
            "A001    3.0   5.0  3.000000  2.0  3.50  5.0  6.50   8.0\n",
            "B002    2.0   7.5  6.363961  3.0  5.25  7.5  9.75  12.0\n",
            "C003    2.0   2.5  2.121320  1.0  1.75  2.5  3.25   4.0\n"
          ]
        }
      ]
    }
  ]
}